{
  "cells": [
    {
      "cell_type": "markdown",
      "metadata": {
        "id": "view-in-github",
        "colab_type": "text"
      },
      "source": [
        "<a href=\"https://colab.research.google.com/github/zxc-ghous/Anime-synopsis-and-genre-generator/blob/main/genre_predict.ipynb\" target=\"_parent\"><img src=\"https://colab.research.google.com/assets/colab-badge.svg\" alt=\"Open In Colab\"/></a>"
      ]
    },
    {
      "cell_type": "code",
      "execution_count": 30,
      "metadata": {
        "id": "Vj_wDfiE26YW"
      },
      "outputs": [],
      "source": [
        "import pandas as pd\n",
        "import numpy as np\n",
        "import re\n",
        "import tensorflow as tf\n",
        "from keras.models import Sequential\n",
        "from keras import layers\n",
        "import seaborn as sns\n",
        "import matplotlib.pyplot as plt\n",
        "from sklearn.preprocessing import MultiLabelBinarizer\n",
        "from sklearn.model_selection import train_test_split\n",
        "from sklearn.metrics import f1_score\n",
        "from keras.callbacks import EarlyStopping\n",
        "from keras import Input,Model\n",
        "from tensorflow.keras import mixed_precision"
      ]
    },
    {
      "cell_type": "code",
      "execution_count": null,
      "metadata": {
        "id": "UpOgVnfIJNAe"
      },
      "outputs": [],
      "source": [
        "!pip install nltk"
      ]
    },
    {
      "cell_type": "code",
      "execution_count": 2,
      "metadata": {
        "id": "eFtvwK9JD1uN"
      },
      "outputs": [],
      "source": [
        "import nltk\n",
        "from nltk.corpus import stopwords"
      ]
    },
    {
      "cell_type": "code",
      "execution_count": null,
      "metadata": {
        "id": "aHsRBUNvbX_V"
      },
      "outputs": [],
      "source": []
    },
    {
      "cell_type": "code",
      "execution_count": 31,
      "metadata": {
        "colab": {
          "base_uri": "https://localhost:8080/"
        },
        "id": "a2qPW_jOtV-O",
        "outputId": "130280a8-336b-4be1-b4e1-2d24378b4441"
      },
      "outputs": [
        {
          "output_type": "stream",
          "name": "stdout",
          "text": [
            "Found GPU at: /device:GPU:0\n"
          ]
        }
      ],
      "source": [
        "#google colab gpu support \n",
        "device_name = tf.test.gpu_device_name()\n",
        "if device_name != '/device:GPU:0':\n",
        "  raise SystemError('GPU device not found')\n",
        "print('Found GPU at: {}'.format(device_name))"
      ]
    },
    {
      "cell_type": "code",
      "execution_count": null,
      "metadata": {
        "id": "UP0d7ZR4fH2A"
      },
      "outputs": [],
      "source": [
        "#google colab tpu support \n",
        "try:\n",
        "  tpu = tf.distribute.cluster_resolver.TPUClusterResolver()  # TPU detection\n",
        "  print('Running on TPU ', tpu.cluster_spec().as_dict()['worker'])\n",
        "except ValueError:\n",
        "  raise BaseException('ERROR: Not connected to a TPU runtime; please see the previous cell in this notebook for instructions!')\n",
        "\n",
        "tf.config.experimental_connect_to_cluster(tpu)\n",
        "tf.tpu.experimental.initialize_tpu_system(tpu)\n",
        "tpu_strategy = tf.distribute.experimental.TPUStrategy(tpu)"
      ]
    },
    {
      "cell_type": "code",
      "source": [
        "# On GPUs, use mixed_float16\n",
        "# On TPUs, use 'mixed_bfloat16' instead\n",
        "mixed_precision.set_global_policy('mixed_float16')"
      ],
      "metadata": {
        "id": "cY5VT4K-4h8-"
      },
      "execution_count": 32,
      "outputs": []
    },
    {
      "cell_type": "code",
      "execution_count": 33,
      "metadata": {
        "colab": {
          "base_uri": "https://localhost:8080/"
        },
        "id": "RQnXKy7E3zoN",
        "outputId": "55453034-04db-4bf8-d1ad-1bfd08460f48"
      },
      "outputs": [
        {
          "output_type": "execute_result",
          "data": {
            "text/plain": [
              "(18336, 2)"
            ]
          },
          "metadata": {},
          "execution_count": 33
        }
      ],
      "source": [
        "data=pd.read_csv('/content/drive/MyDrive/animes.csv')\n",
        "data=data[['synopsis','genre']]\n",
        "data=data.dropna()\n",
        "data.reset_index(inplace=True,drop=True)\n",
        "data.shape"
      ]
    },
    {
      "cell_type": "code",
      "execution_count": 34,
      "metadata": {
        "id": "PWT0Ud686EYW"
      },
      "outputs": [],
      "source": [
        "# genre contains str, make it list[str, ...]\n",
        "data['genre']=data['genre'].map(lambda x: re.split(r', ',re.sub(r\"['\\]\\[]\",'',x)))"
      ]
    },
    {
      "cell_type": "code",
      "execution_count": 35,
      "metadata": {
        "id": "ZCh04F0WiKiF"
      },
      "outputs": [],
      "source": [
        "index_without_genre=data[data['genre'].map(lambda x: np.nan if '' in x else x).isna()].index"
      ]
    },
    {
      "cell_type": "code",
      "execution_count": 36,
      "metadata": {
        "id": "FPDmeqneiPQi"
      },
      "outputs": [],
      "source": [
        "data.drop(index=index_without_genre,inplace=True)"
      ]
    },
    {
      "cell_type": "code",
      "execution_count": 37,
      "metadata": {
        "id": "ttStl2kHieta"
      },
      "outputs": [],
      "source": [
        "data.reset_index(inplace=True,drop=True)"
      ]
    },
    {
      "cell_type": "code",
      "execution_count": 38,
      "metadata": {
        "id": "-WtTCy1Yk_4W"
      },
      "outputs": [],
      "source": [
        "mlb=MultiLabelBinarizer()"
      ]
    },
    {
      "cell_type": "code",
      "execution_count": 39,
      "metadata": {
        "id": "WxsXIag6lQr0"
      },
      "outputs": [],
      "source": [
        "multi_labels=mlb.fit_transform(data['genre'])"
      ]
    },
    {
      "cell_type": "code",
      "execution_count": 40,
      "metadata": {
        "id": "h2_7nXaBmon7"
      },
      "outputs": [],
      "source": [
        "genres_labels=pd.DataFrame(multi_labels,columns=mlb.classes_)"
      ]
    },
    {
      "cell_type": "code",
      "execution_count": 41,
      "metadata": {
        "id": "7_-7-Q-pntpL"
      },
      "outputs": [],
      "source": [
        "data=pd.concat([data,genres_labels],axis=1)"
      ]
    },
    {
      "cell_type": "code",
      "execution_count": 42,
      "metadata": {
        "id": "VI6adF4B5kKt"
      },
      "outputs": [],
      "source": [
        "synopsis=data['synopsis']"
      ]
    },
    {
      "cell_type": "code",
      "execution_count": 43,
      "metadata": {
        "colab": {
          "base_uri": "https://localhost:8080/"
        },
        "id": "EJfozKllrLJq",
        "outputId": "e35f5eb4-eb1b-4ad1-9ea6-542e285a1997"
      },
      "outputs": [
        {
          "output_type": "stream",
          "name": "stderr",
          "text": [
            "[nltk_data] Downloading package stopwords to /root/nltk_data...\n",
            "[nltk_data]   Package stopwords is already up-to-date!\n"
          ]
        }
      ],
      "source": [
        "nltk.download('stopwords')\n",
        "stop_words = set(stopwords.words('english'))"
      ]
    },
    {
      "cell_type": "code",
      "execution_count": 44,
      "metadata": {
        "id": "3aehdq-AqC9o"
      },
      "outputs": [],
      "source": [
        "def delete_bad_substrings(text: str) -> str:\n",
        "  bad_substring=re.findall(r'source: \\w+|written by mal rewrite',text)\n",
        "  if bad_substring:\n",
        "    text=re.sub(bad_substring[0],'',text)\n",
        "  return text"
      ]
    },
    {
      "cell_type": "code",
      "execution_count": 45,
      "metadata": {
        "id": "vhUNfwdDrSaJ"
      },
      "outputs": [],
      "source": [
        "def remove_stopwords(text: str) -> str:\n",
        "   no_stopword_text = [w for w in text.split() if not w in stop_words]\n",
        "   return ' '.join(no_stopword_text)"
      ]
    },
    {
      "cell_type": "code",
      "execution_count": 46,
      "metadata": {
        "id": "oUsMhHreouaN"
      },
      "outputs": [],
      "source": [
        "def make_clean_text(texts: 'pd.Series[str,]') -> 'pd.Series[str,]':\n",
        "  texts=texts.str.lower()\n",
        "  texts=texts.map(lambda x:delete_bad_substrings(x))\n",
        "  texts=texts.map(lambda x:remove_stopwords(x))\n",
        "  texts=texts.map(lambda x: re.sub(r'[\\n\\t\\r]','',x))\n",
        "  texts=texts.map(lambda x: re.sub(r'[\\(\\)\\[\\]]','',x))\n",
        "  texts=texts.str.strip()\n",
        "  return texts"
      ]
    },
    {
      "cell_type": "code",
      "execution_count": 47,
      "metadata": {
        "id": "zJqUsNI_rKb5"
      },
      "outputs": [],
      "source": [
        "synopsis=make_clean_text(synopsis)"
      ]
    },
    {
      "cell_type": "code",
      "execution_count": 48,
      "metadata": {
        "id": "dA08THCPxouU"
      },
      "outputs": [],
      "source": [
        "input_dim=40000\n",
        "input_length=200\n",
        "output_dim=genres_labels.shape[1]"
      ]
    },
    {
      "cell_type": "code",
      "execution_count": 49,
      "metadata": {
        "id": "UMwk3rVCAPQh"
      },
      "outputs": [],
      "source": [
        "vectorize_layer = layers.TextVectorization(max_tokens=input_dim,\n",
        "                                           output_sequence_length=input_length)\n",
        "vectorize_layer.adapt(synopsis)"
      ]
    },
    {
      "cell_type": "code",
      "execution_count": 50,
      "metadata": {
        "id": "aqdYjAunwe5D"
      },
      "outputs": [],
      "source": [
        "word_index=dict(zip(vectorize_layer.get_vocabulary(),range(vectorize_layer.vocabulary_size())))"
      ]
    },
    {
      "cell_type": "code",
      "execution_count": 51,
      "metadata": {
        "id": "3CgwEOcW-ADF"
      },
      "outputs": [],
      "source": [
        "tokenized_synopsis=vectorize_layer(synopsis).numpy()"
      ]
    },
    {
      "cell_type": "code",
      "execution_count": 52,
      "metadata": {
        "id": "CoHNzJeNnFgq"
      },
      "outputs": [],
      "source": [
        "X_train, X_test, y_train, y_test=train_test_split(tokenized_synopsis,genres_labels)"
      ]
    },
    {
      "cell_type": "code",
      "execution_count": 53,
      "metadata": {
        "id": "-md5ivq1IVTU"
      },
      "outputs": [],
      "source": [
        "#glove embedding"
      ]
    },
    {
      "cell_type": "code",
      "execution_count": null,
      "metadata": {
        "id": "LISmu4CEIVV_"
      },
      "outputs": [],
      "source": [
        "!wget http://nlp.stanford.edu/data/glove.6B.zip\n",
        "!unzip -q glove.6B.zip"
      ]
    },
    {
      "cell_type": "code",
      "execution_count": 29,
      "metadata": {
        "id": "LMTBx6gvEEeb"
      },
      "outputs": [],
      "source": [
        "path_to_glove_file=r'/content/glove.6B.200d.txt'"
      ]
    },
    {
      "cell_type": "code",
      "execution_count": 56,
      "metadata": {
        "id": "63fh_O4oZC88"
      },
      "outputs": [],
      "source": [
        "def create_glove_embeddings_index(path_to_glove_file):\n",
        "  embeddings_index = {}\n",
        "  with open(path_to_glove_file) as f:\n",
        "      for line in f:\n",
        "        word, coefs = line.split(maxsplit=1)\n",
        "        coefs = np.fromstring(coefs, \"f\", sep=\" \")\n",
        "        embeddings_index[word] = coefs\n",
        "  return embeddings_index"
      ]
    },
    {
      "cell_type": "code",
      "execution_count": 57,
      "metadata": {
        "colab": {
          "base_uri": "https://localhost:8080/"
        },
        "id": "9rYLVSbCZDAT",
        "outputId": "bee32821-fb8e-4d4c-a08e-3f5e122beae4"
      },
      "outputs": [
        {
          "output_type": "stream",
          "name": "stdout",
          "text": [
            "len of embeddings_index 400000\n"
          ]
        }
      ],
      "source": [
        "embeddings_index=create_glove_embeddings_index(path_to_glove_file)\n",
        "print('len of embeddings_index %d' % len(embeddings_index))"
      ]
    },
    {
      "cell_type": "code",
      "execution_count": 58,
      "metadata": {
        "id": "NHeHdB1oZDDI"
      },
      "outputs": [],
      "source": [
        "#embedding matrix that we can use in a Keras Embedding layer. \n",
        "#It's a simple NumPy matrix where entry at index i is the pre-trained vector for the word of index i in our tokenizer vocabulary\n",
        "\n",
        "def glove_embeddings_matrix(embeddings_index,word_index,pad_length=200):\n",
        "  misses = 0\n",
        "  embedding_matrix = np.zeros((len(word_index)+2, pad_length)) # Words not found in embedding index will be all-zeros.\n",
        "  for word, i in word_index.items():\n",
        "    embedding_vector = embeddings_index.get(word)\n",
        "    if embedding_vector is not None:\n",
        "      embedding_matrix[i] = embedding_vector\n",
        "    else:\n",
        "      misses +=1\n",
        "  print('%d words not found in glove embeddings' % misses)\n",
        "  return embedding_matrix"
      ]
    },
    {
      "cell_type": "code",
      "execution_count": 59,
      "metadata": {
        "id": "8MLhfH_hPVUW",
        "colab": {
          "base_uri": "https://localhost:8080/"
        },
        "outputId": "ecf2479d-166c-48a3-9a04-62e0c882e093"
      },
      "outputs": [
        {
          "output_type": "stream",
          "name": "stdout",
          "text": [
            "13159 words not found in glove embeddings\n"
          ]
        }
      ],
      "source": [
        "embedding_matrix = glove_embeddings_matrix(embeddings_index,word_index)"
      ]
    },
    {
      "cell_type": "code",
      "execution_count": 60,
      "metadata": {
        "id": "-J0lgc7v3ZpN",
        "colab": {
          "base_uri": "https://localhost:8080/"
        },
        "outputId": "51d3002b-c214-40ef-ecf7-ef78e1b47c1c"
      },
      "outputs": [
        {
          "output_type": "execute_result",
          "data": {
            "text/plain": [
              "(40002, 200)"
            ]
          },
          "metadata": {},
          "execution_count": 60
        }
      ],
      "source": [
        "embedding_matrix.shape"
      ]
    },
    {
      "cell_type": "code",
      "execution_count": 61,
      "metadata": {
        "id": "d2TzBxxxPW5h"
      },
      "outputs": [],
      "source": [
        "embedding_layer=layers.Embedding(input_dim=embedding_matrix.shape[0],\n",
        "                                 output_dim=embedding_matrix.shape[1],\n",
        "                                 input_length=embedding_matrix.shape[1],\n",
        "                                 weights=[embedding_matrix],\n",
        "                                 trainable=False)"
      ]
    },
    {
      "cell_type": "code",
      "source": [
        "input=Input(shape=(200,))\n",
        "x=embedding_layer(input)\n",
        "x=layers.Bidirectional(layers.LSTM(128, return_sequences=True))(x)\n",
        "x=layers.Bidirectional(layers.LSTM(128))(x)\n",
        "x=layers.Dense(output_dim)(x)\n",
        "outputs = layers.Activation('sigmoid', dtype='float32')(x)\n",
        "glove_model=Model(input,outputs)\n",
        "glove_model.compile(optimizer='rmsprop',loss='binary_crossentropy',metrics=[\"categorical_accuracy\"])\n",
        "assert outputs.dtype.name=='float32', 'softmax and model output should be float32'\n",
        "glove_model.summary()"
      ],
      "metadata": {
        "colab": {
          "base_uri": "https://localhost:8080/"
        },
        "id": "o742AWxU41tL",
        "outputId": "06f11d9a-5b23-40e9-b6e9-cb7f5573ddd4"
      },
      "execution_count": 68,
      "outputs": [
        {
          "output_type": "stream",
          "name": "stdout",
          "text": [
            "Model: \"model_2\"\n",
            "_________________________________________________________________\n",
            " Layer (type)                Output Shape              Param #   \n",
            "=================================================================\n",
            " input_4 (InputLayer)        [(None, 200)]             0         \n",
            "                                                                 \n",
            " embedding (Embedding)       (None, 200, 200)          8000400   \n",
            "                                                                 \n",
            " bidirectional_6 (Bidirectio  (None, 200, 256)         336896    \n",
            " nal)                                                            \n",
            "                                                                 \n",
            " bidirectional_7 (Bidirectio  (None, 256)              394240    \n",
            " nal)                                                            \n",
            "                                                                 \n",
            " dense_3 (Dense)             (None, 43)                11051     \n",
            "                                                                 \n",
            " activation_2 (Activation)   (None, 43)                0         \n",
            "                                                                 \n",
            "=================================================================\n",
            "Total params: 8,742,587\n",
            "Trainable params: 742,187\n",
            "Non-trainable params: 8,000,400\n",
            "_________________________________________________________________\n"
          ]
        }
      ]
    },
    {
      "cell_type": "code",
      "execution_count": 69,
      "metadata": {
        "id": "Nc49mEOwz_ug"
      },
      "outputs": [],
      "source": [
        "callbacks=[\n",
        "    EarlyStopping(patience=2,\n",
        "                  monitor='val_loss',\n",
        "                  restore_best_weights=True,\n",
        "                  verbose=1)\n",
        "]"
      ]
    },
    {
      "cell_type": "code",
      "execution_count": null,
      "metadata": {
        "id": "dko2ShYsPW-_"
      },
      "outputs": [],
      "source": [
        "history=glove_model.fit(X_train,y_train,epochs=10,batch_size=128,validation_split=0.2,callbacks=callbacks)"
      ]
    },
    {
      "cell_type": "code",
      "execution_count": null,
      "metadata": {
        "id": "4RkBGaXpT0Hf"
      },
      "outputs": [],
      "source": [
        "save_path=r'/content/drive/MyDrive/genre_predict_model'\n",
        "glove_model.save(save_path)"
      ]
    },
    {
      "cell_type": "code",
      "execution_count": 84,
      "metadata": {
        "id": "8FM8o-YiUopT"
      },
      "outputs": [],
      "source": [
        "glove_predictions=glove_model.predict(X_test)"
      ]
    },
    {
      "cell_type": "code",
      "execution_count": 85,
      "metadata": {
        "id": "wjCC611MUopk"
      },
      "outputs": [],
      "source": [
        "glove_predictions=np.where(glove_predictions>0.2,1,0)"
      ]
    },
    {
      "cell_type": "code",
      "execution_count": 86,
      "metadata": {
        "colab": {
          "base_uri": "https://localhost:8080/"
        },
        "id": "BL9gGhPLUopl",
        "outputId": "21c0cfeb-52b2-41aa-f31f-8306c3023ef6"
      },
      "outputs": [
        {
          "output_type": "stream",
          "name": "stdout",
          "text": [
            "micro f1:  0.47971658390684435\n",
            "macro f1:  0.324785153377765\n"
          ]
        }
      ],
      "source": [
        "glove_f1_score_micro=f1_score(y_test,glove_predictions,average='micro')\n",
        "glove_f1_score_macro=f1_score(y_test,glove_predictions,average='macro')\n",
        "print('micro f1: ',glove_f1_score_micro)\n",
        "print('macro f1: ',glove_f1_score_macro)"
      ]
    },
    {
      "cell_type": "code",
      "execution_count": 87,
      "metadata": {
        "id": "AWzyezrqUopl"
      },
      "outputs": [],
      "source": [
        "glove_genres_f1_score=pd.Series(f1_score(y_test,glove_predictions,average=None),index=genres_labels.columns).sort_values(ascending=False)"
      ]
    },
    {
      "cell_type": "code",
      "execution_count": 88,
      "metadata": {
        "colab": {
          "base_uri": "https://localhost:8080/",
          "height": 757
        },
        "id": "8NdIY02PUopm",
        "outputId": "6f761b53-c995-4b63-b6d1-ef8ec19189f3"
      },
      "outputs": [
        {
          "output_type": "execute_result",
          "data": {
            "text/plain": [
              "Text(0.5, 1.0, 'f1 score of anime genres with glove embedding')"
            ]
          },
          "metadata": {},
          "execution_count": 88
        },
        {
          "output_type": "display_data",
          "data": {
            "text/plain": [
              "<Figure size 1080x864 with 1 Axes>"
            ],
            "image/png": "[encoded data removed]"
          },
          "metadata": {
            "needs_background": "light"
          }
        }
      ],
      "source": [
        "fig,ax=plt.subplots(figsize=(15,12))\n",
        "bar_plot=sns.barplot(y=glove_genres_f1_score.index,x=glove_genres_f1_score)\n",
        "plt.xlabel('f1 score', fontsize=16);\n",
        "plt.ylabel('anime genres', fontsize=16,);\n",
        "plt.title('f1 score of anime genres with glove embedding', fontsize=20)"
      ]
    },
    {
      "cell_type": "code",
      "execution_count": 89,
      "metadata": {
        "id": "WZdOlECQVFaL"
      },
      "outputs": [],
      "source": [
        "fig=bar_plot.get_figure()\n",
        "fig.savefig(r'/content/drive/MyDrive/anime_genres.png')"
      ]
    },
    {
      "cell_type": "code",
      "execution_count": 90,
      "metadata": {
        "id": "UpFb9P-f7-Cw"
      },
      "outputs": [],
      "source": [
        "def text_to_genres_model(vectorize=vectorize_layer,trained_model=glove_model):\n",
        "  string_input = Input(shape=(1,), dtype=\"string\")\n",
        "  x = vectorize(string_input)\n",
        "  preds = trained_model(x)\n",
        "  text_to_genres_model = Model(string_input, preds)\n",
        "  return text_to_genres_model"
      ]
    },
    {
      "cell_type": "code",
      "execution_count": 90,
      "metadata": {
        "id": "l33zxLm392qO"
      },
      "outputs": [],
      "source": []
    },
    {
      "cell_type": "code",
      "execution_count": 91,
      "metadata": {
        "id": "b9iJkVYD8Sna"
      },
      "outputs": [],
      "source": [
        "\n",
        "def synopsis_to_predict(synopsis: pd.Series,vectorize=vectorize_layer,trained_model=glove_model,labels=genres_labels.columns):\n",
        "  synopsis=make_clean_text(synopsis)\n",
        "  model=text_to_genres_model(vectorize,trained_model)\n",
        "  predictions=model.predict(synopsis)\n",
        "  predictions=np.where(predictions>0.2,1,0)\n",
        "  predicted_genres=[[genre for pred,genre in zip(prediction,labels) if pred==1] for prediction in predictions]\n",
        "  return predicted_genres"
      ]
    },
    {
      "cell_type": "code",
      "execution_count": 92,
      "metadata": {
        "id": "NrqZnkEu9G4u"
      },
      "outputs": [],
      "source": [
        "forest_gump_text='''The film follows several decades in the life of a slow-witted and kindhearted Alabama man named Forrest Gump (Hanks) and his experiences in the 20th-century United States. The film differs substantially from the novel.'''\n",
        "evangelion_text='''The Evangelion series revolves around the organization NERV, using large mechas called Evangelions to combat monstrous beings called Angels. They are piloted by several of the main characters, including Shinji Ikari, Asuka Sohryu, and Rei Ayanami. While the initial episodes focus largely on religious symbols and specific references to the Bible, the later episodes tend to go deeper into the psyches of the characters, where it is learned that many of them have deep-seated emotional and mental issues. '''"
      ]
    },
    {
      "cell_type": "code",
      "execution_count": 93,
      "metadata": {
        "colab": {
          "base_uri": "https://localhost:8080/"
        },
        "id": "BMrpsTVn9G7H",
        "outputId": "03259a36-be8b-4691-f88d-96a430a852ee"
      },
      "outputs": [
        {
          "output_type": "execute_result",
          "data": {
            "text/plain": [
              "0    The film follows several decades in the life o...\n",
              "1    The Evangelion series revolves around the orga...\n",
              "dtype: object"
            ]
          },
          "metadata": {},
          "execution_count": 93
        }
      ],
      "source": [
        "text=pd.Series([forest_gump_text,evangelion_text])\n",
        "text"
      ]
    },
    {
      "cell_type": "code",
      "execution_count": null,
      "metadata": {
        "colab": {
          "base_uri": "https://localhost:8080/"
        },
        "id": "LcS3xQcWEPpo",
        "outputId": "c27f88ce-9bd0-43a3-b4c2-01b49da2cc0f"
      },
      "outputs": [
        {
          "data": {
            "text/plain": [
              "[['Drama', 'Historical'], ['Action', 'Comedy', 'Mecha', 'Sci-Fi']]"
            ]
          },
          "execution_count": 213,
          "metadata": {},
          "output_type": "execute_result"
        }
      ],
      "source": [
        "genres=synopsis_to_predict(text)\n",
        "genres"
      ]
    },
    {
      "cell_type": "code",
      "source": [],
      "metadata": {
        "id": "vyYfZOJ57Gj6"
      },
      "execution_count": null,
      "outputs": []
    }
  ],
  "metadata": {
    "accelerator": "GPU",
    "colab": {
      "collapsed_sections": [],
      "provenance": [],
      "mount_file_id": "1psauQHm0zCYHVRR0Aj2dr5J3uIK2W1F6",
      "authorship_tag": "ABX9TyOuuuTGZe68XwAWFtt8IKIh",
      "include_colab_link": true
    },
    "kernelspec": {
      "display_name": "Python 3",
      "name": "python3"
    },
    "language_info": {
      "name": "python"
    }
  },
  "nbformat": 4,
  "nbformat_minor": 0
}